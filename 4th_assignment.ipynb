{
 "cells": [
  {
   "cell_type": "markdown",
   "metadata": {},
   "source": [
    "Assignment 4\n",
    "Description\n",
    "In this assignment you must read in a file of metropolitan regions and associated sports teams from assets/wikipedia_data.html and answer some questions about each metropolitan region. Each of these regions may have one or more teams from the \"Big 4\": NFL (football, in assets/nfl.csv), MLB (baseball, in assets/mlb.csv), NBA (basketball, in assets/nba.csv or NHL (hockey, in assets/nhl.csv). Please keep in mind that all questions are from the perspective of the metropolitan region, and that this file is the \"source of authority\" for the location of a given sports team. Thus teams which are commonly known by a different area (e.g. \"Oakland Raiders\") need to be mapped into the metropolitan region given (e.g. San Francisco Bay Area). This will require some human data understanding outside of the data you've been given (e.g. you will have to hand-code some names, and might need to google to find out where teams are)!\n",
    "\n",
    "For each sport I would like you to answer the question: what is the win/loss ratio's correlation with the population of the city it is in? Win/Loss ratio refers to the number of wins over the number of wins plus the number of losses. Remember that to calculate the correlation with pearsonr, so you are going to send in two ordered lists of values, the populations from the wikipedia_data.html file and the win/loss ratio for a given sport in the same order. Average the win/loss ratios for those cities which have multiple teams of a single sport. Each sport is worth an equal amount in this assignment (20%*4=80%) of the grade for this assignment. You should only use data from year 2018 for your analysis -- this is important!\n",
    "\n",
    "Notes\n",
    "    1.Do not include data about the MLS or CFL in any of the work you are doing, we're only interested in the Big 4 in this     assignment.\n",
    "    2.I highly suggest that you first tackle the four correlation questions in order, as they are all similar and worth the majority of grades for this assignment. This is by design!\n",
    "    3.It's fair game to talk with peers about high level strategy as well as the relationship between metropolitan areas and sports teams. However, do not post code solving aspects of the assignment (including such as dictionaries mapping areas to teams, or regexes which will clean up names).\n",
    "    4.There may be more teams than the assert statements test, remember to collapse multiple teams in one city into a single value!"
   ]
  },
  {
   "cell_type": "markdown",
   "metadata": {},
   "source": [
    "Question 1\n",
    "For this question, calculate the win/loss ratio's correlation with the population of the city it is in for the NHL using 2018 data."
   ]
  },
  {
   "cell_type": "code",
   "execution_count": 1,
   "metadata": {},
   "outputs": [],
   "source": [
    "import pandas as pd\n",
    "import numpy as np\n",
    "import scipy.stats as stats\n",
    "import re\n",
    "\n",
    "nhl_df=pd.read_csv(\"assets/nhl.csv\")\n",
    "cities=pd.read_html(\"assets/wikipedia_data.html\")[1]\n",
    "cities=cities.iloc[:-1,[0,3,5,6,7,8]]\n",
    "#print(cities)\n",
    "cities.rename(columns={\"Population (2016 est.)[8]\": \"Population\"},inplace=True)\n",
    "cities['NHL'] = cities['NHL'].str.replace(r'\\[.*\\]','')\n",
    "#print(cities)\n",
    "\n",
    "def nhl_correlation(): \n",
    "    # YOUR CODE HERE\n",
    "    #raise NotImplementedError()\n",
    "    \n",
    "    team = cities['NHL'].str.extract('([A-Z]?[a-z]*\\ [A-Z]?[a-z]*|[A-Z][a-z]*)([A-Z]?[a-z]*\\ [A-Z]?[a-z]*|[A-Z]?[a-z]*)([A-Z]?[a-z]*\\ [A-Z]?[a-z]*|[A-Z]?[a-z]*)')\n",
    "    #some of the states have 3 teams from that area so the regex was done thrice.\n",
    "    team['Metropolitan area'] = cities['Metropolitan area']\n",
    "    team = pd.melt(team, id_vars=['Metropolitan area'])\n",
    "    team = team.drop(columns = ['variable'])\n",
    "    team = team.replace(\"\", np.nan).replace(\"—\",np.nan).dropna().reset_index()\n",
    "    team = team.rename(columns = {'value':'team_name'})\n",
    "    team = pd.merge(team, cities, how='left', on='Metropolitan area')\n",
    "    team = team.iloc[:,1:4]\n",
    "    team['Population'] = team['Population'].astype(int)\n",
    "    team['team_name'] = team['team_name'].str.replace('[\\w.]*\\ ', '')\n",
    "    #print(team)\n",
    "    \n",
    "    \n",
    "    points_table = pd.read_csv('assets/nhl.csv')\n",
    "    points_table =  points_table[points_table['year'] == 2018]\n",
    "    points_table['team_name'] = points_table['team'].str.replace(r'\\*', \"\")\n",
    "    points_table = points_table[['team_name', 'W', 'L']]\n",
    "    points_table = points_table.drop([0,9,18,26])\n",
    "    points_table['team_name'] = points_table['team_name'].str.replace('[\\w.]*\\ ', '')\n",
    "    points_table['W'] = points_table['W'].astype(int)\n",
    "    points_table['L'] = points_table['L'].astype(int)\n",
    "    points_table['points_ratio'] = points_table['W']/(points_table['W'] + points_table['L'])\n",
    "    #print(points_table)\n",
    "    \n",
    "    final_df = pd.merge(team, points_table, how = 'outer', on = 'team_name')\n",
    "    final_df = final_df.groupby('Metropolitan area').agg({'points_ratio':np.mean,'Population':np.mean})\n",
    "    #print(final_df.reset_index())\n",
    "    \n",
    "    population_by_region = final_df['Population'] # pass in metropolitan area population from cities\n",
    "    win_loss_by_region = final_df['points_ratio'] # pass in win/loss ratio from nhl_df in the same order as cities[\"Metropolitan area\"]\n",
    "\n",
    "    assert len(population_by_region) == len(win_loss_by_region), \"Q1: Your lists must be the same length\"\n",
    "    assert len(population_by_region) == 28, \"Q1: There should be 28 teams being analysed for NHL\"\n",
    "    \n",
    "    corr, pval = stats.pearsonr(population_by_region, win_loss_by_region)\n",
    "    return corr"
   ]
  },
  {
   "cell_type": "code",
   "execution_count": 2,
   "metadata": {},
   "outputs": [
    {
     "data": {
      "text/plain": [
       "0.012486162921209881"
      ]
     },
     "execution_count": 2,
     "metadata": {},
     "output_type": "execute_result"
    }
   ],
   "source": [
    "nhl_correlation()"
   ]
  },
  {
   "cell_type": "markdown",
   "metadata": {},
   "source": [
    "Question 2\n",
    "For this question, calculate the win/loss ratio's correlation with the population of the city it is in for the NBA using 2018 data.\n",
    "\n"
   ]
  },
  {
   "cell_type": "code",
   "execution_count": 117,
   "metadata": {},
   "outputs": [],
   "source": [
    "import pandas as pd\n",
    "import numpy as np\n",
    "import scipy.stats as stats\n",
    "import re\n",
    "\n",
    "nba_df=pd.read_csv(\"assets/nba.csv\")\n",
    "cities=pd.read_html(\"assets/wikipedia_data.html\")[1]\n",
    "cities=cities.iloc[:-1,[0,3,5,6,7,8]]\n",
    "\n",
    "cities.rename(columns={\"Population (2016 est.)[8]\": \"Population\"},inplace=True)\n",
    "cities['NBA'] = cities['NBA'].str.replace(r'\\[.*\\]','')\n",
    "#print(cities)\n",
    "\n",
    "def nba_correlation():\n",
    "    # YOUR CODE HERE\n",
    "    #raise NotImplementedError()\n",
    "    team = cities['NBA'].str.extract('([A-Z]{0,2}[a-z0-9]*\\ [A-Z]{0,2}[a-z0-9]*|[A-Z]{0,2}[a-z0-9]*)([A-Z]{0,2}[a-z0-9]*\\ [A-Z]{0,2}[a-z0-9]*|[A-Z]{0,2}[a-z0-9]*)')\n",
    "    #some of the states have 3 teams from that area so the regex was done thrice.\n",
    "    team['Metropolitan area'] = cities['Metropolitan area']\n",
    "    team = pd.melt(team, id_vars=['Metropolitan area'])\n",
    "    team = team.drop(columns = ['variable'])\n",
    "    team = team.replace(\"\", np.nan).replace(\"—\",np.nan).dropna().reset_index()\n",
    "    team = team.rename(columns = {'value':'team_name'})\n",
    "    team = pd.merge(team, cities, how='left', on='Metropolitan area')\n",
    "    team = team.iloc[:,1:4]\n",
    "    team['Population'] = team['Population'].astype(int)\n",
    "    team['team_name'] = team['team_name'].str.replace('[\\w.]*\\ ', '')\n",
    "    team['team_name'] = team['team_name'].str.replace('76ers', 'ers')\n",
    "    team['team_name'] = team['team_name'].str.strip()\n",
    "    #print(team)\n",
    "    \n",
    "    points_table = pd.read_csv('assets/nba.csv')\n",
    "    points_table =  points_table[points_table['year'] == 2018]\n",
    "    points_table['team_name'] = points_table['team'].str.replace(r'[\\*]', '')\n",
    "    points_table['team_name'] = points_table['team_name'].str.replace(r'[\\(\\d*\\)]', '')\n",
    "    #points_table['team_name'] = points_table['team_name'].str.replace(r'[\\xa0]', '')\n",
    "    points_table = points_table[['team_name', 'W/L%']]\n",
    "    #print(points_table)\n",
    "    #points_table = points_table.drop([0,9,18,26])\n",
    "    points_table['team_name'] = points_table['team_name'].str.replace('[\\w.]*\\ ', '')\n",
    "    points_table['W/L%'] = points_table['W/L%'].astype(float)\n",
    "    points_table['team_name'] = points_table['team_name'].str.strip()\n",
    "    #points_table['L'] = points_table['L'].astype(int)\n",
    "    #points_table['points_ratio'] = points_table['W']/(points_table['W'] + points_table['L'])\n",
    "    #print(points_table)\n",
    "    \n",
    "    final_df = pd.merge(team, points_table, how = 'outer', on = 'team_name')\n",
    "    final_df = final_df.groupby('Metropolitan area').agg({'W/L%':np.mean,'Population':np.mean})\n",
    "    #print(final_df)\n",
    "    \n",
    "    population_by_region = final_df['Population'] # pass in metropolitan area population from cities\n",
    "    win_loss_by_region = final_df['W/L%'] # pass in win/loss ratio from nba_df in the same order as cities[\"Metropolitan area\"]\n",
    "\n",
    "    assert len(population_by_region) == len(win_loss_by_region), \"Q2: Your lists must be the same length\"\n",
    "    assert len(population_by_region) == 28, \"Q2: There should be 28 teams being analysed for NBA\"\n",
    "\n",
    "    corr, pval =  stats.pearsonr(population_by_region, win_loss_by_region)\n",
    "    return corr"
   ]
  },
  {
   "cell_type": "code",
   "execution_count": 118,
   "metadata": {},
   "outputs": [
    {
     "name": "stdout",
     "output_type": "stream",
     "text": [
      "-0.17636350642182935\n"
     ]
    }
   ],
   "source": [
    "print(nba_correlation())"
   ]
  },
  {
   "cell_type": "markdown",
   "metadata": {},
   "source": [
    "Question 3\n",
    "For this question, calculate the win/loss ratio's correlation with the population of the city it is in for the MLB using 2018 data."
   ]
  },
  {
   "cell_type": "code",
   "execution_count": 195,
   "metadata": {},
   "outputs": [],
   "source": [
    "import pandas as pd\n",
    "import numpy as np\n",
    "import scipy.stats as stats\n",
    "import re\n",
    "\n",
    "mlb_df=pd.read_csv(\"assets/mlb.csv\")\n",
    "cities=pd.read_html(\"assets/wikipedia_data.html\")[1]\n",
    "cities=cities.iloc[:-1,[0,3,5,6,7,8]]\n",
    "cities.rename(columns={\"Population (2016 est.)[8]\": \"Population\"},inplace=True)\n",
    "cities['MLB'] = cities['MLB'].str.replace(r'\\[.*\\]','')\n",
    "#print(cities)\n",
    "\n",
    "def mlb_correlation(): \n",
    "    # YOUR CODE HERE\n",
    "    #raise NotImplementedError()\n",
    "    team = cities['MLB'].str.extract('([A-Z]?[a-z]*\\ [A-Z]?[a-z]*|[A-Z][a-z]*)([A-Z]?[a-z]*\\ [A-Z]?[a-z]*|[A-Z]?[a-z]*)([A-Z]?[a-z]*\\ [A-Z]?[a-z]*|[A-Z]?[a-z]*)')\n",
    "    #some of the states have 3 teams from that area so the regex was done thrice.\n",
    "    team['Metropolitan area'] = cities['Metropolitan area']\n",
    "    team = pd.melt(team, id_vars=['Metropolitan area'])\n",
    "    team = team.drop(columns = ['variable'])\n",
    "    team = team.replace(\"\", np.nan).replace(\"—\",np.nan).dropna().reset_index()\n",
    "    team = team.rename(columns = {'value':'team_name'})\n",
    "    team = pd.merge(team, cities, how='left', on='Metropolitan area')\n",
    "    team = team.iloc[:,1:4]\n",
    "    team['Population'] = team['Population'].astype(int)\n",
    "    team['team_name'] = team['team_name'].str.replace('\\ Sox', 'Sox')\n",
    "    team['team_name'] = team['team_name'].str.replace('[\\w.]*\\ ', '')\n",
    "    #print(team)\n",
    "    \n",
    "    points_table = pd.read_csv('assets/mlb.csv')\n",
    "    points_table =  points_table[points_table['year'] == 2018]\n",
    "    points_table['team_name'] = points_table['team'].str.replace(r'\\*', \"\")\n",
    "    points_table = points_table[['team_name', 'W-L%']]\n",
    "    #points_table = points_table.drop([0,9,18,26])\n",
    "    points_table['team_name'] = points_table['team_name'].str.replace('\\ Sox', 'Sox')\n",
    "    points_table['team_name'] = points_table['team_name'].str.replace('[\\w.]*\\ ', '')\n",
    "    points_table['W-L%'] = points_table['W-L%'].astype(float)\n",
    "    #points_table['L'] = points_table['L'].astype(int)\n",
    "    #points_table['points_ratio'] = points_table['W']/(points_table['W'] + points_table['L'])\n",
    "    #print(points_table)\n",
    "    \n",
    "    final_df = pd.merge(team, points_table, how = 'outer', on = 'team_name')\n",
    "    final_df = final_df.groupby('Metropolitan area').agg({'W-L%':np.mean,'Population':np.mean})\n",
    "    #print(final_df)\n",
    "    \n",
    "    population_by_region = final_df['Population'] # pass in metropolitan area population from cities\n",
    "    win_loss_by_region = final_df['W-L%'] # pass in win/loss ratio from mlb_df in the same order as cities[\"Metropolitan area\"]\n",
    "\n",
    "    assert len(population_by_region) == len(win_loss_by_region), \"Q3: Your lists must be the same length\"\n",
    "    assert len(population_by_region) == 26, \"Q3: There should be 26 teams being analysed for MLB\"\n",
    "\n",
    "    corr, pval = stats.pearsonr(population_by_region, win_loss_by_region)\n",
    "    return corr"
   ]
  },
  {
   "cell_type": "code",
   "execution_count": 196,
   "metadata": {},
   "outputs": [
    {
     "name": "stdout",
     "output_type": "stream",
     "text": [
      "0.15003737475409498\n"
     ]
    }
   ],
   "source": [
    "print(mlb_correlation())"
   ]
  },
  {
   "cell_type": "markdown",
   "metadata": {},
   "source": [
    "Question 4\n",
    "For this question, calculate the win/loss ratio's correlation with the population of the city it is in for the NFL using 2018 data."
   ]
  },
  {
   "cell_type": "code",
   "execution_count": 166,
   "metadata": {},
   "outputs": [],
   "source": [
    "import pandas as pd\n",
    "import numpy as np\n",
    "import scipy.stats as stats\n",
    "import re\n",
    "\n",
    "nfl_df=pd.read_csv(\"assets/nfl.csv\")\n",
    "cities=pd.read_html(\"assets/wikipedia_data.html\")[1]\n",
    "cities=cities.iloc[:-1,[0,3,5,6,7,8]]\n",
    "cities.rename(columns={\"Population (2016 est.)[8]\": \"Population\"},inplace=True)\n",
    "cities['NFL'] = cities['NFL'].str.replace(r'\\[.*\\]','')\n",
    "#print(cities)\n",
    "\n",
    "def nfl_correlation(): \n",
    "    # YOUR CODE HERE\n",
    "    #raise NotImplementedError()\n",
    "    team = cities['NFL'].str.extract('([A-Z]{0,2}[a-z0-9]*\\ [A-Z]{0,2}[a-z0-9]*|[A-Z]{0,2}[a-z0-9]*)([A-Z]{0,2}[a-z0-9]*\\ [A-Z]{0,2}[a-z0-9]*|[A-Z]{0,2}[a-z0-9]*)')\n",
    "    #some of the states have 3 teams from that area so the regex was done thrice.\n",
    "    team['Metropolitan area'] = cities['Metropolitan area']\n",
    "    team = pd.melt(team, id_vars=['Metropolitan area'])\n",
    "    team = team.drop(columns = ['variable'])\n",
    "    team = team.replace(\"\", np.nan).replace(\"—\",np.nan).dropna().reset_index()\n",
    "    team = team.rename(columns = {'value':'team_name'})\n",
    "    team = pd.merge(team, cities, how='left', on='Metropolitan area')\n",
    "    team = team.iloc[:,1:4]\n",
    "    team['Population'] = team['Population'].astype(int)\n",
    "    team['team_name'] = team['team_name'].str.replace('[\\w.]*\\', '')\n",
    "    team['team_name'] = team['team_name'].str.strip()\n",
    "    #print(team)\n",
    "    \n",
    "    points_table = pd.read_csv('assets/nfl.csv')\n",
    "    points_table =  points_table[points_table['year'] == 2018]\n",
    "    points_table['team_name'] = points_table['team'].str.replace(r'[\\*\\+]', \"\")\n",
    "    points_table = points_table[['team_name', 'W-L%']]\n",
    "    #print(points_table)\n",
    "    points_table = points_table.drop([0,5,10,15,20,25,30,35])\n",
    "    points_table['team_name'] = points_table['team_name'].str.replace('[\\w.]*\\ ', '')\n",
    "    points_table['W-L%'] = points_table['W-L%'].astype(float)\n",
    "    points_table['team_name'] = points_table['team_name'].str.strip()\n",
    "    #points_table['L'] = points_table['L'].astype(int)\n",
    "    #points_table['points_ratio'] = points_table['W']/(points_table['W'] + points_table['L'])\n",
    "    #print(points_table)\n",
    "    \n",
    "    final_df = pd.merge(team, points_table, how = 'outer', on = 'team_name')\n",
    "    final_df = final_df.groupby('Metropolitan area').agg({'W-L%':np.mean,'Population':np.mean})\n",
    "    #print(final_df)\n",
    "    \n",
    "    population_by_region = final_df['Population'] # pass in metropolitan area population from cities\n",
    "    win_loss_by_region = final_df['W-L%'] # pass in win/loss ratio from nfl_df in the same order as cities[\"Metropolitan area\"]\n",
    "\n",
    "    assert len(population_by_region) == len(win_loss_by_region), \"Q4: Your lists must be the same length\"\n",
    "    assert len(population_by_region) == 29, \"Q4: There should be 29 teams being analysed for NFL\"\n",
    "\n",
    "    corr, pval = stats.pearsonr(population_by_region, win_loss_by_region)\n",
    "    return corr"
   ]
  },
  {
   "cell_type": "code",
   "execution_count": 167,
   "metadata": {},
   "outputs": [
    {
     "name": "stdout",
     "output_type": "stream",
     "text": [
      "0.004282141436393022\n"
     ]
    }
   ],
   "source": [
    "print(nfl_correlation())"
   ]
  },
  {
   "cell_type": "markdown",
   "metadata": {},
   "source": [
    "Question 5\n",
    "In this question I would like you to explore the hypothesis that given that an area has two sports teams in different sports, those teams will perform the same within their respective sports. How I would like to see this explored is with a series of paired t-tests (so use ttest_rel) between all pairs of sports. Are there any sports where we can reject the null hypothesis? Again, average values where a sport has multiple teams in one region. Remember, you will only be including, for each sport, cities which have teams engaged in that sport, drop others as appropriate. This question is worth 20% of the grade for this assignment."
   ]
  },
  {
   "cell_type": "code",
   "execution_count": null,
   "metadata": {},
   "outputs": [],
   "source": [
    "import pandas as pd\n",
    "import numpy as np\n",
    "import scipy.stats as stats\n",
    "import re\n",
    "\n",
    "mlb_df=pd.read_csv(\"assets/mlb.csv\")\n",
    "nhl_df=pd.read_csv(\"assets/nhl.csv\")\n",
    "nba_df=pd.read_csv(\"assets/nba.csv\")\n",
    "nfl_df=pd.read_csv(\"assets/nfl.csv\")\n",
    "cities=pd.read_html(\"assets/wikipedia_data.html\")[1]\n",
    "cities=cities.iloc[:-1,[0,3,5,6,7,8]]\n",
    "\n",
    "def sports_team_performance():\n",
    "    # YOUR CODE HERE\n",
    "    raise NotImplementedError()\n",
    "    \n",
    "    # Note: p_values is a full dataframe, so df.loc[\"NFL\",\"NBA\"] should be the same as df.loc[\"NBA\",\"NFL\"] and\n",
    "    # df.loc[\"NFL\",\"NFL\"] should return np.nan\n",
    "    sports = ['NFL', 'NBA', 'NHL', 'MLB']\n",
    "    p_values = pd.DataFrame({k:np.nan for k in sports}, index=sports)\n",
    "    \n",
    "    assert abs(p_values.loc[\"NBA\", \"NHL\"] - 0.02) <= 1e-2, \"The NBA-NHL p-value should be around 0.02\"\n",
    "    assert abs(p_values.loc[\"MLB\", \"NFL\"] - 0.80) <= 1e-2, \"The MLB-NFL p-value should be around 0.80\"\n",
    "    return p_values"
   ]
  },
  {
   "cell_type": "code",
   "execution_count": null,
   "metadata": {},
   "outputs": [],
   "source": []
  },
  {
   "cell_type": "code",
   "execution_count": null,
   "metadata": {},
   "outputs": [],
   "source": []
  }
 ],
 "metadata": {
  "kernelspec": {
   "display_name": "Python 3",
   "language": "python",
   "name": "python3"
  },
  "language_info": {
   "codemirror_mode": {
    "name": "ipython",
    "version": 3
   },
   "file_extension": ".py",
   "mimetype": "text/x-python",
   "name": "python",
   "nbconvert_exporter": "python",
   "pygments_lexer": "ipython3",
   "version": "3.7.6"
  }
 },
 "nbformat": 4,
 "nbformat_minor": 4
}
