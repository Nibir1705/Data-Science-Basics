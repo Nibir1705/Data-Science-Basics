{
 "cells": [
  {
   "cell_type": "code",
   "execution_count": 17,
   "metadata": {},
   "outputs": [],
   "source": [
    "import pandas as pd\n",
    "\n",
    "df = pd.read_csv('assets/NISPUF17.csv')"
   ]
  },
  {
   "cell_type": "code",
   "execution_count": 60,
   "metadata": {},
   "outputs": [],
   "source": [
    "#Task 1\n",
    "def proportion_of_education():\n",
    "    # your code goes here\n",
    "    # YOUR CODE HERE\n",
    "    import pandas as pd\n",
    "    df = pd.read_csv('assets/NISPUF17.csv')\n",
    "    a = (df['EDUC1'] == 1).sum() #count the mother with the education levels equal to less than high school (<12) \n",
    "    b = (df['EDUC1'] == 2).sum() #count the mother with the education levels upto high school (12)\n",
    "    c = (df['EDUC1'] == 3).sum() #count the mother with the education levels more than high school but not a college graduate (>12)\n",
    "    d = (df['EDUC1'] == 4).sum() #count the mother with the education college degree\n",
    "    e = len(df['EDUC1'])         #count the total number of mothers\n",
    "    new_dict = {\"less than high school\":a/e,\n",
    "        \"high school\":b/e,\n",
    "        \"more than high school but not college\":c/e,\n",
    "        \"college\":d/e}\n",
    "    return(new_dict)"
   ]
  },
  {
   "cell_type": "code",
   "execution_count": 18,
   "metadata": {},
   "outputs": [
    {
     "data": {
      "text/plain": [
       "2     27955\n",
       "1       402\n",
       "77      105\n",
       "99        3\n",
       "Name: HAD_CPOX, dtype: int64"
      ]
     },
     "execution_count": 18,
     "metadata": {},
     "output_type": "execute_result"
    }
   ],
   "source": [
    "df['HAD_CPOX'].value_counts()\n"
   ]
  },
  {
   "cell_type": "code",
   "execution_count": 61,
   "metadata": {},
   "outputs": [],
   "source": [
    "#Task 2\n",
    "def average_influenza_doses():\n",
    "    # YOUR CODE HERE\n",
    "    import pandas as pd\n",
    "    df = pd.read_csv('assets/NISPUF17.csv')\n",
    "    a = (df['P_NUMFLU'].where(df['CBF_01'] == 1)).mean() #average number of influenza vaccines for those children we know received breastmilk as a child\n",
    "    b = (df['P_NUMFLU'].where(df['CBF_01'] == 2)).mean() #average number of influenza vaccines for those children we know did not receive breastmilk as a child\n",
    "    x = (a,b)\n",
    "    return x"
   ]
  },
  {
   "cell_type": "code",
   "execution_count": 4,
   "metadata": {},
   "outputs": [],
   "source": [
    "#Task 3\n",
    "def chickenpox_by_sex():\n",
    "    # YOUR CODE HERE\n",
    "    import pandas as pd\n",
    "    df = pd.read_csv('assets/NISPUF17.csv')\n",
    "    a1m = (((df['HAD_CPOX'] == 1).where(df['P_NUMVRC'] > 0)).where(df['SEX'] == 1)).sum()\n",
    "    #a1m variable counts the sum of all those male babies who had atleast 1 vaccine but suffered from cpox \n",
    "    a2m = (((df['HAD_CPOX'] == 2).where(df['P_NUMVRC'] > 0)).where(df['SEX'] == 1)).sum()\n",
    "    #a2m variable counts the sum of all those male babies who had atleast 1 vaccine but did not suffer from cpox\n",
    "    am = a1m/a2m\n",
    "    b1f = (((df['HAD_CPOX'] == 1).where(df['P_NUMVRC'] > 0)).where(df['SEX'] == 2)).sum()\n",
    "    #b1f variable counts the sum of all those female babies who had atleast 1 vaccine but suffered from cpox \n",
    "    b2f = (((df['HAD_CPOX'] == 2).where(df['P_NUMVRC'] > 0)).where(df['SEX'] == 2)).sum()\n",
    "    #b2f variable counts the sum of all those female babies who had atleast 1 vaccine but did not suffer from cpox\n",
    "    bf = b1f/b2f\n",
    "    new_dict2 = {\"male\":am,\n",
    "                \"female\":bf}\n",
    "    return(new_dict2)"
   ]
  },
  {
   "cell_type": "code",
   "execution_count": 31,
   "metadata": {},
   "outputs": [],
   "source": [
    "#task4\n",
    "def corr_chickenpox():\n",
    "    import scipy.stats as stats\n",
    "    import numpy as np\n",
    "    import pandas as pd\n",
    "    \n",
    "    # this is just an example dataframe\n",
    "    df = pd.read_csv('assets/NISPUF17.csv')\n",
    "    df = df[df['HAD_CPOX']<3]\n",
    "    df = df[df['P_NUMVRC'].notna()]\n",
    "    # here is some stub code to actually run the correlation\n",
    "    corr, pval=stats.pearsonr(df['HAD_CPOX'], df['P_NUMVRC'])\n",
    "\n",
    "    # just return the correlation\n",
    "    return corr\n",
    "\n",
    "    # YOUR CODE HERE\n",
    "    #raise NotImplementedError()"
   ]
  },
  {
   "cell_type": "code",
   "execution_count": null,
   "metadata": {},
   "outputs": [],
   "source": []
  }
 ],
 "metadata": {
  "kernelspec": {
   "display_name": "Python 3",
   "language": "python",
   "name": "python3"
  },
  "language_info": {
   "codemirror_mode": {
    "name": "ipython",
    "version": 3
   },
   "file_extension": ".py",
   "mimetype": "text/x-python",
   "name": "python",
   "nbconvert_exporter": "python",
   "pygments_lexer": "ipython3",
   "version": "3.7.6"
  }
 },
 "nbformat": 4,
 "nbformat_minor": 4
}
